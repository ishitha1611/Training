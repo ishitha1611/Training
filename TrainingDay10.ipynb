{
  "nbformat": 4,
  "nbformat_minor": 0,
  "metadata": {
    "colab": {
      "provenance": [],
      "authorship_tag": "ABX9TyP+vExMzW5U37VGB5pUF+vz",
      "include_colab_link": true
    },
    "kernelspec": {
      "name": "python3",
      "display_name": "Python 3"
    },
    "language_info": {
      "name": "python"
    }
  },
  "cells": [
    {
      "cell_type": "markdown",
      "metadata": {
        "id": "view-in-github",
        "colab_type": "text"
      },
      "source": [
        "<a href=\"https://colab.research.google.com/github/ishitha1611/Training/blob/main/TrainingDay10.ipynb\" target=\"_parent\"><img src=\"https://colab.research.google.com/assets/colab-badge.svg\" alt=\"Open In Colab\"/></a>"
      ]
    },
    {
      "cell_type": "code",
      "execution_count": null,
      "metadata": {
        "id": "uGt5eppYg4ML"
      },
      "outputs": [],
      "source": [
        "numpy   : array operations\n"
      ]
    },
    {
      "cell_type": "code",
      "source": [
        "import numpy as np"
      ],
      "metadata": {
        "id": "4Bt06jbGixol"
      },
      "execution_count": null,
      "outputs": []
    },
    {
      "cell_type": "code",
      "source": [
        "j = [6,7,8,3,1,1]\n",
        "j"
      ],
      "metadata": {
        "colab": {
          "base_uri": "https://localhost:8080/"
        },
        "id": "EQG_9I7Li2qQ",
        "outputId": "3c197830-c691-42ae-dddb-4813064faf63"
      },
      "execution_count": null,
      "outputs": [
        {
          "output_type": "execute_result",
          "data": {
            "text/plain": [
              "[6, 7, 8, 3, 1, 1]"
            ]
          },
          "metadata": {},
          "execution_count": 4
        }
      ]
    },
    {
      "cell_type": "code",
      "source": [
        "d=np.array(j)\n",
        "d"
      ],
      "metadata": {
        "colab": {
          "base_uri": "https://localhost:8080/"
        },
        "id": "YbbNIHInjQag",
        "outputId": "d300ee7c-43d0-4b3b-bd46-a256a6fb5597"
      },
      "execution_count": null,
      "outputs": [
        {
          "output_type": "execute_result",
          "data": {
            "text/plain": [
              "array([6, 7, 8, 3, 1, 1])"
            ]
          },
          "metadata": {},
          "execution_count": 5
        }
      ]
    },
    {
      "cell_type": "code",
      "source": [
        "type(d)\n"
      ],
      "metadata": {
        "colab": {
          "base_uri": "https://localhost:8080/"
        },
        "id": "aN54UbEskKpS",
        "outputId": "d7b700cb-c538-4860-a4c0-637fabc676eb"
      },
      "execution_count": null,
      "outputs": [
        {
          "output_type": "execute_result",
          "data": {
            "text/plain": [
              "numpy.ndarray"
            ]
          },
          "metadata": {},
          "execution_count": 6
        }
      ]
    },
    {
      "cell_type": "code",
      "source": [
        "j.shape"
      ],
      "metadata": {
        "colab": {
          "base_uri": "https://localhost:8080/",
          "height": 141
        },
        "id": "ZsBn6Fh3kMZc",
        "outputId": "e2e4a229-53dd-4880-bf25-5acd9451840f"
      },
      "execution_count": null,
      "outputs": [
        {
          "output_type": "error",
          "ename": "AttributeError",
          "evalue": "'list' object has no attribute 'shape'",
          "traceback": [
            "\u001b[0;31m---------------------------------------------------------------------------\u001b[0m",
            "\u001b[0;31mAttributeError\u001b[0m                            Traceback (most recent call last)",
            "\u001b[0;32m<ipython-input-7-42acd6a085d4>\u001b[0m in \u001b[0;36m<cell line: 0>\u001b[0;34m()\u001b[0m\n\u001b[0;32m----> 1\u001b[0;31m \u001b[0mj\u001b[0m\u001b[0;34m.\u001b[0m\u001b[0mshape\u001b[0m\u001b[0;34m\u001b[0m\u001b[0;34m\u001b[0m\u001b[0m\n\u001b[0m",
            "\u001b[0;31mAttributeError\u001b[0m: 'list' object has no attribute 'shape'"
          ]
        }
      ]
    },
    {
      "cell_type": "code",
      "source": [
        "d.ndim"
      ],
      "metadata": {
        "colab": {
          "base_uri": "https://localhost:8080/"
        },
        "id": "XvY52qgykOTA",
        "outputId": "f8a3bbe8-ddd5-4de3-8025-11cc89d80637"
      },
      "execution_count": null,
      "outputs": [
        {
          "output_type": "execute_result",
          "data": {
            "text/plain": [
              "1"
            ]
          },
          "metadata": {},
          "execution_count": 8
        }
      ]
    },
    {
      "cell_type": "code",
      "source": [
        "d.reshape"
      ],
      "metadata": {
        "colab": {
          "base_uri": "https://localhost:8080/"
        },
        "id": "K93nkKFokTaK",
        "outputId": "23b6d569-87cb-4841-b2db-479aae1088be"
      },
      "execution_count": null,
      "outputs": [
        {
          "output_type": "execute_result",
          "data": {
            "text/plain": [
              "<function ndarray.reshape>"
            ]
          },
          "metadata": {},
          "execution_count": 10
        }
      ]
    },
    {
      "cell_type": "code",
      "source": [],
      "metadata": {
        "id": "EGvp7M5xkVOX"
      },
      "execution_count": null,
      "outputs": []
    },
    {
      "cell_type": "code",
      "source": [
        "s = [[2,5,8,6,3],[9,8,7,5,6],[6,5,7,9,3],[11,8,31,58,45]]"
      ],
      "metadata": {
        "id": "Xe8CyT7d0jNg"
      },
      "execution_count": null,
      "outputs": []
    },
    {
      "cell_type": "code",
      "source": [
        "s"
      ],
      "metadata": {
        "colab": {
          "base_uri": "https://localhost:8080/"
        },
        "id": "BKe9obnn2Y0E",
        "outputId": "224ae50f-e072-409d-c60d-6ea0985fdeb9"
      },
      "execution_count": null,
      "outputs": [
        {
          "output_type": "execute_result",
          "data": {
            "text/plain": [
              "[[2, 5, 8, 6, 3], [9, 8, 7, 5, 6], [6, 5, 7, 9, 3], [11, 8, 31, 58, 45]]"
            ]
          },
          "metadata": {},
          "execution_count": 14
        }
      ]
    },
    {
      "cell_type": "code",
      "source": [
        "arr1 = np.array(s)"
      ],
      "metadata": {
        "id": "X6nma8xF2Zb_"
      },
      "execution_count": null,
      "outputs": []
    },
    {
      "cell_type": "code",
      "source": [
        "arr1"
      ],
      "metadata": {
        "colab": {
          "base_uri": "https://localhost:8080/"
        },
        "id": "TnIrkMiW2g1P",
        "outputId": "cea56d65-af8f-4a1f-9e91-97da3f184095"
      },
      "execution_count": null,
      "outputs": [
        {
          "output_type": "execute_result",
          "data": {
            "text/plain": [
              "array([[ 2,  5,  8,  6,  3],\n",
              "       [ 9,  8,  7,  5,  6],\n",
              "       [ 6,  5,  7,  9,  3],\n",
              "       [11,  8, 31, 58, 45]])"
            ]
          },
          "metadata": {},
          "execution_count": 16
        }
      ]
    },
    {
      "cell_type": "code",
      "source": [
        "type(arr1)"
      ],
      "metadata": {
        "colab": {
          "base_uri": "https://localhost:8080/"
        },
        "id": "bgSaY2JZ2i17",
        "outputId": "79817aeb-e8c9-46e3-8e71-be0c14515528"
      },
      "execution_count": null,
      "outputs": [
        {
          "output_type": "execute_result",
          "data": {
            "text/plain": [
              "numpy.ndarray"
            ]
          },
          "metadata": {},
          "execution_count": 17
        }
      ]
    },
    {
      "cell_type": "code",
      "source": [
        "arr1.shape"
      ],
      "metadata": {
        "colab": {
          "base_uri": "https://localhost:8080/"
        },
        "id": "SPiAsHPR2lAX",
        "outputId": "bdc70897-3352-4f24-a965-4fdb6c26823c"
      },
      "execution_count": null,
      "outputs": [
        {
          "output_type": "execute_result",
          "data": {
            "text/plain": [
              "(4, 5)"
            ]
          },
          "metadata": {},
          "execution_count": 19
        }
      ]
    },
    {
      "cell_type": "code",
      "source": [
        "arr1.ndim"
      ],
      "metadata": {
        "colab": {
          "base_uri": "https://localhost:8080/"
        },
        "id": "LWcW24Sg2mhH",
        "outputId": "dc2f5008-8132-40da-ab12-8c1a33768825"
      },
      "execution_count": null,
      "outputs": [
        {
          "output_type": "execute_result",
          "data": {
            "text/plain": [
              "2"
            ]
          },
          "metadata": {},
          "execution_count": 20
        }
      ]
    },
    {
      "cell_type": "code",
      "source": [
        "arr1.reshape"
      ],
      "metadata": {
        "colab": {
          "base_uri": "https://localhost:8080/"
        },
        "id": "6u_9zWtJ2pmq",
        "outputId": "21095bdd-231e-4a70-c37f-664e40b4802f"
      },
      "execution_count": null,
      "outputs": [
        {
          "output_type": "execute_result",
          "data": {
            "text/plain": [
              "<function ndarray.reshape>"
            ]
          },
          "metadata": {},
          "execution_count": 21
        }
      ]
    },
    {
      "cell_type": "code",
      "source": [
        "j = [5,87,23,46,23,45]\n",
        "j"
      ],
      "metadata": {
        "colab": {
          "base_uri": "https://localhost:8080/"
        },
        "id": "uV-rgnrt2s4L",
        "outputId": "8ae82933-bfd2-4daf-ad4a-47097ec0aac8"
      },
      "execution_count": null,
      "outputs": [
        {
          "output_type": "execute_result",
          "data": {
            "text/plain": [
              "[5, 87, 23, 46, 23, 45]"
            ]
          },
          "metadata": {},
          "execution_count": 22
        }
      ]
    },
    {
      "cell_type": "code",
      "source": [
        "import numpy as np"
      ],
      "metadata": {
        "id": "WuIQ_6cc4moE"
      },
      "execution_count": 23,
      "outputs": []
    },
    {
      "cell_type": "code",
      "source": [
        "l = np.array([3,5,6,7,8])"
      ],
      "metadata": {
        "id": "xgENdgdMCjDZ"
      },
      "execution_count": 24,
      "outputs": []
    },
    {
      "cell_type": "code",
      "source": [
        "np.mean(l)"
      ],
      "metadata": {
        "colab": {
          "base_uri": "https://localhost:8080/"
        },
        "id": "nf4jnOYyCnkx",
        "outputId": "61e4a546-49e9-4a7a-a250-be3816631d40"
      },
      "execution_count": 25,
      "outputs": [
        {
          "output_type": "execute_result",
          "data": {
            "text/plain": [
              "5.8"
            ]
          },
          "metadata": {},
          "execution_count": 25
        }
      ]
    },
    {
      "cell_type": "code",
      "source": [
        "np.median(l)"
      ],
      "metadata": {
        "colab": {
          "base_uri": "https://localhost:8080/"
        },
        "id": "3Z1Qsn_DCpwd",
        "outputId": "39a2389d-ac49-4d56-d52a-9a1099982151"
      },
      "execution_count": 26,
      "outputs": [
        {
          "output_type": "execute_result",
          "data": {
            "text/plain": [
              "6.0"
            ]
          },
          "metadata": {},
          "execution_count": 26
        }
      ]
    },
    {
      "cell_type": "code",
      "source": [
        "np.var(l)"
      ],
      "metadata": {
        "colab": {
          "base_uri": "https://localhost:8080/"
        },
        "id": "Z7LKEzWlCua5",
        "outputId": "d5458d39-d1d4-456f-9abb-82746ea0375d"
      },
      "execution_count": 28,
      "outputs": [
        {
          "output_type": "execute_result",
          "data": {
            "text/plain": [
              "2.96"
            ]
          },
          "metadata": {},
          "execution_count": 28
        }
      ]
    },
    {
      "cell_type": "code",
      "source": [
        "np.std(l)"
      ],
      "metadata": {
        "colab": {
          "base_uri": "https://localhost:8080/"
        },
        "id": "P6oEWYZGCwj0",
        "outputId": "2fc2c836-ed8a-42b0-ece6-474ea231d9dd"
      },
      "execution_count": 29,
      "outputs": [
        {
          "output_type": "execute_result",
          "data": {
            "text/plain": [
              "1.7204650534085253"
            ]
          },
          "metadata": {},
          "execution_count": 29
        }
      ]
    },
    {
      "cell_type": "code",
      "source": [
        "np.max(l)"
      ],
      "metadata": {
        "colab": {
          "base_uri": "https://localhost:8080/"
        },
        "id": "b29jNxlhC6fD",
        "outputId": "e03d2f23-72f9-4b8e-bd0a-2bebedb9dea2"
      },
      "execution_count": 30,
      "outputs": [
        {
          "output_type": "execute_result",
          "data": {
            "text/plain": [
              "8"
            ]
          },
          "metadata": {},
          "execution_count": 30
        }
      ]
    },
    {
      "cell_type": "code",
      "source": [
        "np.min(l)"
      ],
      "metadata": {
        "colab": {
          "base_uri": "https://localhost:8080/"
        },
        "id": "b-fFdbDOC-Kn",
        "outputId": "6f3fc183-b5e7-404c-d209-38e316df2b95"
      },
      "execution_count": 31,
      "outputs": [
        {
          "output_type": "execute_result",
          "data": {
            "text/plain": [
              "3"
            ]
          },
          "metadata": {},
          "execution_count": 31
        }
      ]
    },
    {
      "cell_type": "code",
      "source": [
        "np.quantile(l,0.25)"
      ],
      "metadata": {
        "colab": {
          "base_uri": "https://localhost:8080/"
        },
        "id": "BQiFi_rCDABl",
        "outputId": "10f66204-0a02-4092-d4a1-ca0ca149111b"
      },
      "execution_count": 34,
      "outputs": [
        {
          "output_type": "execute_result",
          "data": {
            "text/plain": [
              "5.0"
            ]
          },
          "metadata": {},
          "execution_count": 34
        }
      ]
    },
    {
      "cell_type": "code",
      "source": [
        "np.random.rand()"
      ],
      "metadata": {
        "colab": {
          "base_uri": "https://localhost:8080/"
        },
        "id": "nPhZKi-tDLEW",
        "outputId": "5fd5f1d7-1f9b-4472-d9ef-b3b5b475b495"
      },
      "execution_count": 39,
      "outputs": [
        {
          "output_type": "execute_result",
          "data": {
            "text/plain": [
              "0.7475384302149735"
            ]
          },
          "metadata": {},
          "execution_count": 39
        }
      ]
    },
    {
      "cell_type": "code",
      "source": [
        "np.random.rand(100)"
      ],
      "metadata": {
        "colab": {
          "base_uri": "https://localhost:8080/"
        },
        "id": "SR3TURruK-D1",
        "outputId": "101945a1-feaa-4da3-ddc3-977481bcd434"
      },
      "execution_count": 43,
      "outputs": [
        {
          "output_type": "execute_result",
          "data": {
            "text/plain": [
              "array([0.53147264, 0.19246283, 0.557648  , 0.06102103, 0.20778243,\n",
              "       0.56386196, 0.87485807, 0.15854184, 0.58399614, 0.62598149,\n",
              "       0.45924377, 0.2644605 , 0.83825512, 0.55689797, 0.15379933,\n",
              "       0.65304111, 0.12651889, 0.729003  , 0.61994016, 0.29691284,\n",
              "       0.54562138, 0.8224971 , 0.58474007, 0.07243821, 0.91843322,\n",
              "       0.86284042, 0.18287886, 0.94222201, 0.98420552, 0.66319058,\n",
              "       0.1462185 , 0.57315177, 0.46745124, 0.44872294, 0.0132622 ,\n",
              "       0.29063909, 0.06323861, 0.70677513, 0.8623821 , 0.31037003,\n",
              "       0.27072596, 0.55136193, 0.34853125, 0.71371658, 0.80931517,\n",
              "       0.35727841, 0.17963412, 0.51222501, 0.30256445, 0.48213536,\n",
              "       0.48884615, 0.26691619, 0.27196565, 0.46246461, 0.23391056,\n",
              "       0.12427482, 0.19205731, 0.67097167, 0.09001428, 0.99525486,\n",
              "       0.94456929, 0.15930456, 0.1079321 , 0.00150551, 0.09535757,\n",
              "       0.63654442, 0.60245066, 0.15589938, 0.40853264, 0.04346577,\n",
              "       0.56610915, 0.19208204, 0.29736787, 0.11320212, 0.23416178,\n",
              "       0.22542281, 0.02351244, 0.74252088, 0.36853358, 0.79540375,\n",
              "       0.96586043, 0.18901424, 0.26416242, 0.5260771 , 0.7308509 ,\n",
              "       0.41125283, 0.52316109, 0.47201641, 0.09948877, 0.26466079,\n",
              "       0.84032051, 0.43307846, 0.7053161 , 0.13362648, 0.38204494,\n",
              "       0.57990926, 0.97339368, 0.57430179, 0.84649809, 0.46263807])"
            ]
          },
          "metadata": {},
          "execution_count": 43
        }
      ]
    },
    {
      "cell_type": "code",
      "source": [
        "l.shape"
      ],
      "metadata": {
        "colab": {
          "base_uri": "https://localhost:8080/"
        },
        "id": "43DPRIbLLeYR",
        "outputId": "d4ff0bd5-57de-4171-d56c-a03ece569dbb"
      },
      "execution_count": 44,
      "outputs": [
        {
          "output_type": "execute_result",
          "data": {
            "text/plain": [
              "(5,)"
            ]
          },
          "metadata": {},
          "execution_count": 44
        }
      ]
    },
    {
      "cell_type": "code",
      "source": [
        "l.size"
      ],
      "metadata": {
        "colab": {
          "base_uri": "https://localhost:8080/"
        },
        "id": "FGPE7G_GLxoJ",
        "outputId": "00f9942f-36c3-438c-f0eb-ab51353348ce"
      },
      "execution_count": 46,
      "outputs": [
        {
          "output_type": "execute_result",
          "data": {
            "text/plain": [
              "5"
            ]
          },
          "metadata": {},
          "execution_count": 46
        }
      ]
    },
    {
      "cell_type": "code",
      "source": [
        "l.ndim"
      ],
      "metadata": {
        "colab": {
          "base_uri": "https://localhost:8080/"
        },
        "id": "zhRvbgXIL2hM",
        "outputId": "8e67ec6c-ff8a-4826-f54e-4e4ae58f1edd"
      },
      "execution_count": 47,
      "outputs": [
        {
          "output_type": "execute_result",
          "data": {
            "text/plain": [
              "1"
            ]
          },
          "metadata": {},
          "execution_count": 47
        }
      ]
    },
    {
      "cell_type": "code",
      "source": [
        "np.random.randint(1,100)"
      ],
      "metadata": {
        "colab": {
          "base_uri": "https://localhost:8080/"
        },
        "id": "vq3nRCcdMAHR",
        "outputId": "8b13ba14-ca77-4b58-bccc-a81d4b7ed76d"
      },
      "execution_count": 48,
      "outputs": [
        {
          "output_type": "execute_result",
          "data": {
            "text/plain": [
              "75"
            ]
          },
          "metadata": {},
          "execution_count": 48
        }
      ]
    },
    {
      "cell_type": "code",
      "source": [
        "np.random.randint(36,86,(5,5))"
      ],
      "metadata": {
        "colab": {
          "base_uri": "https://localhost:8080/"
        },
        "id": "kuN17TkIONfy",
        "outputId": "e0db1b2e-64be-4e58-ac7e-98d70d61bca1"
      },
      "execution_count": 49,
      "outputs": [
        {
          "output_type": "execute_result",
          "data": {
            "text/plain": [
              "array([[62, 47, 62, 49, 79],\n",
              "       [59, 54, 56, 59, 62],\n",
              "       [46, 69, 81, 69, 69],\n",
              "       [61, 60, 66, 72, 84],\n",
              "       [51, 66, 75, 81, 75]])"
            ]
          },
          "metadata": {},
          "execution_count": 49
        }
      ]
    },
    {
      "cell_type": "code",
      "source": [
        "np.."
      ],
      "metadata": {
        "id": "XNoFz-ngPIIo"
      },
      "execution_count": null,
      "outputs": []
    }
  ]
}