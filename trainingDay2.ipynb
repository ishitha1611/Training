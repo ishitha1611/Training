{
 "cells": [
  {
   "cell_type": "code",
   "execution_count": 1,
   "id": "31f50046-e1b6-4f3b-bd6d-ebc116363b38",
   "metadata": {},
   "outputs": [
    {
     "data": {
      "text/plain": [
       "23"
      ]
     },
     "execution_count": 1,
     "metadata": {},
     "output_type": "execute_result"
    }
   ],
   "source": [
    "num = 23\n",
    "num"
   ]
  },
  {
   "cell_type": "code",
   "execution_count": 2,
   "id": "707212d2-bf12-4f4d-8c18-8d9d3d7c264c",
   "metadata": {},
   "outputs": [
    {
     "data": {
      "text/plain": [
       "int"
      ]
     },
     "execution_count": 2,
     "metadata": {},
     "output_type": "execute_result"
    }
   ],
   "source": [
    "type(num)"
   ]
  },
  {
   "cell_type": "code",
   "execution_count": 3,
   "id": "013f40e6-4bc3-458f-ac2b-44407194cd12",
   "metadata": {},
   "outputs": [
    {
     "data": {
      "text/plain": [
       "'Ishitha'"
      ]
     },
     "execution_count": 3,
     "metadata": {},
     "output_type": "execute_result"
    }
   ],
   "source": [
    "name = \"Ishitha\"\n",
    "name"
   ]
  },
  {
   "cell_type": "code",
   "execution_count": 4,
   "id": "ebda12a3-e2ac-4ed4-b458-581c86a4f905",
   "metadata": {},
   "outputs": [
    {
     "data": {
      "text/plain": [
       "str"
      ]
     },
     "execution_count": 4,
     "metadata": {},
     "output_type": "execute_result"
    }
   ],
   "source": [
    "type(name)"
   ]
  },
  {
   "cell_type": "code",
   "execution_count": 2,
   "id": "2ad30b45-ac8b-474c-9b6f-3362066aca39",
   "metadata": {},
   "outputs": [],
   "source": [
    "###additon  +\n",
    "###subtraction   -\n",
    "###multiplication  *\n",
    "###division  /\n",
    "###remainder  %\n",
    "###power  **\n",
    "###floor division  //\n"
   ]
  },
  {
   "cell_type": "code",
   "execution_count": 3,
   "id": "fdfebb27-38c5-4cca-81d9-ef0c9e61482e",
   "metadata": {},
   "outputs": [],
   "source": [
    "a = 109\n",
    "b = 3"
   ]
  },
  {
   "cell_type": "code",
   "execution_count": 7,
   "id": "326efd62-53db-4af9-b45a-afa9691a14b4",
   "metadata": {},
   "outputs": [
    {
     "data": {
      "text/plain": [
       "112"
      ]
     },
     "execution_count": 7,
     "metadata": {},
     "output_type": "execute_result"
    }
   ],
   "source": [
    "c = a+b\n",
    "c"
   ]
  },
  {
   "cell_type": "code",
   "execution_count": 8,
   "id": "6c3ab221-66b8-462a-ae70-5b01cb250926",
   "metadata": {},
   "outputs": [
    {
     "data": {
      "text/plain": [
       "int"
      ]
     },
     "execution_count": 8,
     "metadata": {},
     "output_type": "execute_result"
    }
   ],
   "source": [
    "type(c)"
   ]
  },
  {
   "cell_type": "code",
   "execution_count": 12,
   "id": "acce5d1b-7746-4d8c-813b-da1edc5bd2e6",
   "metadata": {},
   "outputs": [
    {
     "data": {
      "text/plain": [
       "36.333333333333336"
      ]
     },
     "execution_count": 12,
     "metadata": {},
     "output_type": "execute_result"
    }
   ],
   "source": [
    "d = a-b\n",
    "d"
   ]
  },
  {
   "cell_type": "code",
   "execution_count": 10,
   "id": "fa62bbc6-664e-46ae-8ff8-cca7c2ae25dd",
   "metadata": {},
   "outputs": [
    {
     "data": {
      "text/plain": [
       "int"
      ]
     },
     "execution_count": 10,
     "metadata": {},
     "output_type": "execute_result"
    }
   ],
   "source": [
    "type(d)"
   ]
  },
  {
   "cell_type": "code",
   "execution_count": 13,
   "id": "87ddeacb-e890-4f62-8198-db01175621fb",
   "metadata": {},
   "outputs": [
    {
     "data": {
      "text/plain": [
       "36"
      ]
     },
     "execution_count": 13,
     "metadata": {},
     "output_type": "execute_result"
    }
   ],
   "source": [
    "e = a//b\n",
    "e"
   ]
  },
  {
   "cell_type": "code",
   "execution_count": 14,
   "id": "688be310-47ee-4a94-b12d-7e4cb4e53bbe",
   "metadata": {},
   "outputs": [
    {
     "data": {
      "text/plain": [
       "327"
      ]
     },
     "execution_count": 14,
     "metadata": {},
     "output_type": "execute_result"
    }
   ],
   "source": [
    "f= a*b\n",
    "f"
   ]
  },
  {
   "cell_type": "code",
   "execution_count": 15,
   "id": "97deaf61-8e18-44f3-8de3-f7d081f3e59a",
   "metadata": {},
   "outputs": [
    {
     "data": {
      "text/plain": [
       "36.333333333333336"
      ]
     },
     "execution_count": 15,
     "metadata": {},
     "output_type": "execute_result"
    }
   ],
   "source": [
    "g = a/b\n",
    "d"
   ]
  },
  {
   "cell_type": "code",
   "execution_count": 16,
   "id": "47a151d1-09bb-4474-89a2-f111a8182fda",
   "metadata": {},
   "outputs": [
    {
     "data": {
      "text/plain": [
       "1295029"
      ]
     },
     "execution_count": 16,
     "metadata": {},
     "output_type": "execute_result"
    }
   ],
   "source": [
    "d = a**b\n",
    "d"
   ]
  },
  {
   "cell_type": "code",
   "execution_count": 17,
   "id": "3d8dee9f-04dd-4fd6-b952-4daf9d70a5ca",
   "metadata": {},
   "outputs": [
    {
     "data": {
      "text/plain": [
       "1"
      ]
     },
     "execution_count": 17,
     "metadata": {},
     "output_type": "execute_result"
    }
   ],
   "source": [
    "d = a%b\n",
    "d"
   ]
  },
  {
   "cell_type": "code",
   "execution_count": 18,
   "id": "302640c1-6e44-4095-ad50-ffd75c6b7fa9",
   "metadata": {},
   "outputs": [
    {
     "data": {
      "text/plain": [
       "int"
      ]
     },
     "execution_count": 18,
     "metadata": {},
     "output_type": "execute_result"
    }
   ],
   "source": [
    "type(d)"
   ]
  },
  {
   "cell_type": "code",
   "execution_count": null,
   "id": "d3dedf4b-a516-4060-8fbe-821e91197636",
   "metadata": {},
   "outputs": [],
   "source": [
    "### > < >= <= == !="
   ]
  },
  {
   "cell_type": "code",
   "execution_count": 1,
   "id": "263a7765-6591-4b0c-a1c1-1252508eb3bc",
   "metadata": {},
   "outputs": [
    {
     "data": {
      "text/plain": [
       "True"
      ]
     },
     "execution_count": 1,
     "metadata": {},
     "output_type": "execute_result"
    }
   ],
   "source": [
    "2<3"
   ]
  },
  {
   "cell_type": "code",
   "execution_count": 2,
   "id": "ce2c94bf-a319-4de5-bcf5-21d0c9b8a10c",
   "metadata": {},
   "outputs": [
    {
     "data": {
      "text/plain": [
       "True"
      ]
     },
     "execution_count": 2,
     "metadata": {},
     "output_type": "execute_result"
    }
   ],
   "source": [
    "46>39"
   ]
  },
  {
   "cell_type": "code",
   "execution_count": 3,
   "id": "bb4a76dc-6117-4eee-975a-f9554d437c0d",
   "metadata": {},
   "outputs": [
    {
     "data": {
      "text/plain": [
       "False"
      ]
     },
     "execution_count": 3,
     "metadata": {},
     "output_type": "execute_result"
    }
   ],
   "source": [
    "245<=56"
   ]
  },
  {
   "cell_type": "code",
   "execution_count": 4,
   "id": "3c9175de-87da-42b6-9b09-a755c11c9398",
   "metadata": {},
   "outputs": [
    {
     "data": {
      "text/plain": [
       "False"
      ]
     },
     "execution_count": 4,
     "metadata": {},
     "output_type": "execute_result"
    }
   ],
   "source": [
    "43>=48"
   ]
  },
  {
   "cell_type": "code",
   "execution_count": 7,
   "id": "31128f38-1a15-4e0c-b43e-4a8db8614349",
   "metadata": {},
   "outputs": [
    {
     "data": {
      "text/plain": [
       "True"
      ]
     },
     "execution_count": 7,
     "metadata": {},
     "output_type": "execute_result"
    }
   ],
   "source": [
    "111==111"
   ]
  },
  {
   "cell_type": "code",
   "execution_count": 8,
   "id": "fe4d4197-42ae-46d5-812d-b6332b7ed5e7",
   "metadata": {},
   "outputs": [
    {
     "data": {
      "text/plain": [
       "True"
      ]
     },
     "execution_count": 8,
     "metadata": {},
     "output_type": "execute_result"
    }
   ],
   "source": [
    "24!=45"
   ]
  },
  {
   "cell_type": "code",
   "execution_count": 10,
   "id": "6b62d39b-e80c-49b1-87d5-462e0dd74553",
   "metadata": {},
   "outputs": [],
   "source": [
    "a=23\n",
    "b=67"
   ]
  },
  {
   "cell_type": "code",
   "execution_count": 11,
   "id": "ac620de7-7088-45f6-a396-ccdb7029849e",
   "metadata": {},
   "outputs": [
    {
     "data": {
      "text/plain": [
       "False"
      ]
     },
     "execution_count": 11,
     "metadata": {},
     "output_type": "execute_result"
    }
   ],
   "source": [
    "a>b"
   ]
  },
  {
   "cell_type": "code",
   "execution_count": 12,
   "id": "e7444a67-6286-4d5b-b7b5-3f05599afb50",
   "metadata": {},
   "outputs": [
    {
     "data": {
      "text/plain": [
       "True"
      ]
     },
     "execution_count": 12,
     "metadata": {},
     "output_type": "execute_result"
    }
   ],
   "source": [
    "a<b"
   ]
  },
  {
   "cell_type": "code",
   "execution_count": 13,
   "id": "83bc52cc-5f5b-42d1-a5e4-d4d834e3041a",
   "metadata": {},
   "outputs": [
    {
     "data": {
      "text/plain": [
       "False"
      ]
     },
     "execution_count": 13,
     "metadata": {},
     "output_type": "execute_result"
    }
   ],
   "source": [
    "a>=b"
   ]
  },
  {
   "cell_type": "code",
   "execution_count": 14,
   "id": "33a96db5-46c1-4047-996a-66ec7eaad401",
   "metadata": {},
   "outputs": [
    {
     "data": {
      "text/plain": [
       "True"
      ]
     },
     "execution_count": 14,
     "metadata": {},
     "output_type": "execute_result"
    }
   ],
   "source": [
    "a<=b"
   ]
  },
  {
   "cell_type": "code",
   "execution_count": 15,
   "id": "2b4f46f8-873d-47a8-afd7-11834078e61a",
   "metadata": {},
   "outputs": [
    {
     "data": {
      "text/plain": [
       "False"
      ]
     },
     "execution_count": 15,
     "metadata": {},
     "output_type": "execute_result"
    }
   ],
   "source": [
    "a==b"
   ]
  },
  {
   "cell_type": "code",
   "execution_count": 17,
   "id": "5e93cc72-b7f0-4332-ac39-c93b61e11ac0",
   "metadata": {},
   "outputs": [
    {
     "data": {
      "text/plain": [
       "True"
      ]
     },
     "execution_count": 17,
     "metadata": {},
     "output_type": "execute_result"
    }
   ],
   "source": [
    "a!=b"
   ]
  },
  {
   "cell_type": "code",
   "execution_count": null,
   "id": "424e7f27-2c6e-41a1-85db-101a1d786365",
   "metadata": {},
   "outputs": [],
   "source": [
    "#logical operators\n",
    "# and\n",
    "# or \n",
    "# not "
   ]
  },
  {
   "cell_type": "code",
   "execution_count": 18,
   "id": "b3cb45be-21d9-4631-948e-a79a8d1b1579",
   "metadata": {},
   "outputs": [],
   "source": [
    "a=5\n",
    "b=9"
   ]
  },
  {
   "cell_type": "code",
   "execution_count": 19,
   "id": "7eaf65f5-af50-4ff7-9733-cf0d4428fd51",
   "metadata": {},
   "outputs": [
    {
     "data": {
      "text/plain": [
       "False"
      ]
     },
     "execution_count": 19,
     "metadata": {},
     "output_type": "execute_result"
    }
   ],
   "source": [
    "(a > 80)"
   ]
  },
  {
   "cell_type": "code",
   "execution_count": 20,
   "id": "6c89c2b9-7403-4cfd-a2df-a1fedf4f6d77",
   "metadata": {},
   "outputs": [
    {
     "data": {
      "text/plain": [
       "True"
      ]
     },
     "execution_count": 20,
     "metadata": {},
     "output_type": "execute_result"
    }
   ],
   "source": [
    "(a<b) or (a>20)"
   ]
  },
  {
   "cell_type": "code",
   "execution_count": 22,
   "id": "2f8e6432-1ba4-4d8b-9000-352b9f3a1666",
   "metadata": {},
   "outputs": [
    {
     "data": {
      "text/plain": [
       "True"
      ]
     },
     "execution_count": 22,
     "metadata": {},
     "output_type": "execute_result"
    }
   ],
   "source": [
    "(a>2) and (a<21)"
   ]
  },
  {
   "cell_type": "code",
   "execution_count": 23,
   "id": "140bb910-770f-4955-80e9-5000fa1f1069",
   "metadata": {},
   "outputs": [
    {
     "data": {
      "text/plain": [
       "True"
      ]
     },
     "execution_count": 23,
     "metadata": {},
     "output_type": "execute_result"
    }
   ],
   "source": [
    "not(a>32)"
   ]
  },
  {
   "cell_type": "code",
   "execution_count": 24,
   "id": "96831fc1-feec-49de-bf9d-b2f186486368",
   "metadata": {},
   "outputs": [],
   "source": [
    "# all arithmetic operators\n",
    "# all comparision operators\n",
    "# and or"
   ]
  },
  {
   "cell_type": "code",
   "execution_count": 27,
   "id": "e8befbb6-af3a-41f4-910e-ff774cc049b3",
   "metadata": {},
   "outputs": [
    {
     "data": {
      "text/plain": [
       "9"
      ]
     },
     "execution_count": 27,
     "metadata": {},
     "output_type": "execute_result"
    }
   ],
   "source": [
    "b"
   ]
  },
  {
   "cell_type": "code",
   "execution_count": 28,
   "id": "896a6109-ff2d-4072-a4f9-db0a0dae206c",
   "metadata": {},
   "outputs": [
    {
     "data": {
      "text/plain": [
       "True"
      ]
     },
     "execution_count": 28,
     "metadata": {},
     "output_type": "execute_result"
    }
   ],
   "source": [
    "b>5"
   ]
  },
  {
   "cell_type": "code",
   "execution_count": 29,
   "id": "fa0e0ba7-35d0-4253-8ec3-ace6ef48e5b8",
   "metadata": {},
   "outputs": [
    {
     "data": {
      "text/plain": [
       "False"
      ]
     },
     "execution_count": 29,
     "metadata": {},
     "output_type": "execute_result"
    }
   ],
   "source": [
    "b < 2"
   ]
  },
  {
   "cell_type": "code",
   "execution_count": 31,
   "id": "212c5dbe-c767-4a8c-84c9-8867a36d6300",
   "metadata": {},
   "outputs": [
    {
     "data": {
      "text/plain": [
       "False"
      ]
     },
     "execution_count": 31,
     "metadata": {},
     "output_type": "execute_result"
    }
   ],
   "source": [
    "b>10 and a < 38"
   ]
  },
  {
   "cell_type": "code",
   "execution_count": 1,
   "id": "6ad3dc01-9c58-4c75-9853-fe4943308cbe",
   "metadata": {},
   "outputs": [],
   "source": [
    "cgpa = 5.6"
   ]
  },
  {
   "cell_type": "code",
   "execution_count": 2,
   "id": "f30c283e-0fb5-4525-a97f-31feb18cf8da",
   "metadata": {},
   "outputs": [
    {
     "data": {
      "text/plain": [
       "False"
      ]
     },
     "execution_count": 2,
     "metadata": {},
     "output_type": "execute_result"
    }
   ],
   "source": [
    "cgpa>8.1 and cgpa<9.0"
   ]
  },
  {
   "cell_type": "code",
   "execution_count": null,
   "id": "1f88c284-939c-4cb4-8a0f-57132be27a0d",
   "metadata": {},
   "outputs": [],
   "source": []
  }
 ],
 "metadata": {
  "kernelspec": {
   "display_name": "Python 3 (ipykernel)",
   "language": "python",
   "name": "python3"
  },
  "language_info": {
   "codemirror_mode": {
    "name": "ipython",
    "version": 3
   },
   "file_extension": ".py",
   "mimetype": "text/x-python",
   "name": "python",
   "nbconvert_exporter": "python",
   "pygments_lexer": "ipython3",
   "version": "3.12.7"
  }
 },
 "nbformat": 4,
 "nbformat_minor": 5
}
