{
 "cells": [
  {
   "cell_type": "code",
   "execution_count": null,
   "id": "01ad4a48-27de-4b8d-8861-a5cd1c3fcf4f",
   "metadata": {},
   "outputs": [],
   "source": []
  }
 ],
 "metadata": {
  "kernelspec": {
   "display_name": "",
   "name": ""
  },
  "language_info": {
   "name": ""
  }
 },
 "nbformat": 4,
 "nbformat_minor": 5
}
