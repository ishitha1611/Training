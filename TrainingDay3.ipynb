{
  "nbformat": 4,
  "nbformat_minor": 0,
  "metadata": {
    "colab": {
      "provenance": [],
      "authorship_tag": "ABX9TyMWsVBceOrTcaaL10syC2zh",
      "include_colab_link": true
    },
    "kernelspec": {
      "name": "python3",
      "display_name": "Python 3"
    },
    "language_info": {
      "name": "python"
    }
  },
  "cells": [
    {
      "cell_type": "markdown",
      "metadata": {
        "id": "view-in-github",
        "colab_type": "text"
      },
      "source": [
        "<a href=\"https://colab.research.google.com/github/ishitha1611/Training/blob/main/TrainingDay3.ipynb\" target=\"_parent\"><img src=\"https://colab.research.google.com/assets/colab-badge.svg\" alt=\"Open In Colab\"/></a>"
      ]
    },
    {
      "cell_type": "code",
      "execution_count": null,
      "metadata": {
        "id": "P_8nyJJtuHz-"
      },
      "outputs": [],
      "source": [
        "def calculate_grade():\n",
        "    try:\n",
        "        subject1 = float(input(\"Enter marks for subject 1: \"))\n",
        "        subject2 = float(input(\"Enter marks for subject 2: \"))\n",
        "        subject3 = float(input(\"Enter marks for subject 3: \"))\n",
        "        average = (subject1 + subject2 + subject3) / 3\n",
        "        if average >= 90:\n",
        "            grade = \"A\"\n",
        "        elif 80 <= average < 90:\n",
        "            grade = \"B\"\n",
        "        elif 70 <= average < 80:\n",
        "            grade = \"C\"\n",
        "        else:\n",
        "            grade = \"Fail\"\n",
        "        print(f\"Average: {average:.2f}\")\n",
        "        print(f\"Grade: {grade}\")\n",
        "    except ValueError:\n",
        "        print(\"Invalid input! Please enter numeric values for marks.\")\n",
        "\n",
        "calculate_grade()"
      ]
    },
    {
      "cell_type": "markdown",
      "source": [],
      "metadata": {
        "id": "pbjjy7G8vIam"
      }
    }
  ]
}