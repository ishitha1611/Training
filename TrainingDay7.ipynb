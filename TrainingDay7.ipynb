{
  "nbformat": 4,
  "nbformat_minor": 0,
  "metadata": {
    "colab": {
      "provenance": [],
      "authorship_tag": "ABX9TyP5r8+s1FKleMHxX7j4zPzK",
      "include_colab_link": true
    },
    "kernelspec": {
      "name": "python3",
      "display_name": "Python 3"
    },
    "language_info": {
      "name": "python"
    }
  },
  "cells": [
    {
      "cell_type": "markdown",
      "metadata": {
        "id": "view-in-github",
        "colab_type": "text"
      },
      "source": [
        "<a href=\"https://colab.research.google.com/github/ishitha1611/Training/blob/main/TrainingDay7.ipynb\" target=\"_parent\"><img src=\"https://colab.research.google.com/assets/colab-badge.svg\" alt=\"Open In Colab\"/></a>"
      ]
    },
    {
      "cell_type": "code",
      "execution_count": 1,
      "metadata": {
        "colab": {
          "base_uri": "https://localhost:8080/"
        },
        "id": "EkskMTtfz5Cv",
        "outputId": "0b53a703-51b1-46a3-fce9-bb9c4a1b3ca0"
      },
      "outputs": [
        {
          "output_type": "stream",
          "name": "stdout",
          "text": [
            "[2, 3, 4]\n"
          ]
        }
      ],
      "source": [
        "my_list = [1,2,3,4,5]\n",
        "print(my_list[1:4])"
      ]
    },
    {
      "cell_type": "code",
      "source": [
        "x = 9\n",
        "if x%2==0:\n",
        "  print(\"Even\")\n",
        "else:\n",
        "  print(\"odd\")"
      ],
      "metadata": {
        "colab": {
          "base_uri": "https://localhost:8080/"
        },
        "id": "mfs5RqF80S5x",
        "outputId": "6d5fe096-a666-423b-bec8-fcdb2512e4f4"
      },
      "execution_count": 2,
      "outputs": [
        {
          "output_type": "stream",
          "name": "stdout",
          "text": [
            "odd\n"
          ]
        }
      ]
    },
    {
      "cell_type": "code",
      "source": [
        "7%3==0"
      ],
      "metadata": {
        "colab": {
          "base_uri": "https://localhost:8080/"
        },
        "id": "s27Ton2g0jv4",
        "outputId": "8c2d4186-d99a-4c11-b183-1b496c168428"
      },
      "execution_count": 3,
      "outputs": [
        {
          "output_type": "execute_result",
          "data": {
            "text/plain": [
              "False"
            ]
          },
          "metadata": {},
          "execution_count": 3
        }
      ]
    },
    {
      "cell_type": "code",
      "source": [
        "100%2==0"
      ],
      "metadata": {
        "colab": {
          "base_uri": "https://localhost:8080/"
        },
        "id": "HWN3cXmo07S6",
        "outputId": "6d26ff0f-157f-4a70-875f-78afbe2554b4"
      },
      "execution_count": 4,
      "outputs": [
        {
          "output_type": "execute_result",
          "data": {
            "text/plain": [
              "True"
            ]
          },
          "metadata": {},
          "execution_count": 4
        }
      ]
    },
    {
      "cell_type": "code",
      "source": [
        "x=-5.6\n",
        "if x>0:\n",
        "  print('pos')\n",
        "elif x<0:\n",
        "  print('neg')\n",
        "else:\n",
        "  print('zero')"
      ],
      "metadata": {
        "colab": {
          "base_uri": "https://localhost:8080/"
        },
        "id": "8494GoK83x3y",
        "outputId": "ec19e260-89e3-413f-a384-86377d6507d4"
      },
      "execution_count": 5,
      "outputs": [
        {
          "output_type": "stream",
          "name": "stdout",
          "text": [
            "neg\n"
          ]
        }
      ]
    },
    {
      "cell_type": "code",
      "source": [
        "x=1.5\n",
        "if x>0:\n",
        "  print('pos')\n",
        "  if x>10:\n",
        "    print('M')\n",
        "  elif x>20:\n",
        "    print('P')\n",
        "  elif x<10:\n",
        "    print('K')\n",
        "  else:\n",
        "    print('T')\n",
        "elif x<0:\n",
        "  print('neg')\n",
        "\n",
        "  if x<-20:\n",
        "    print('Q')\n",
        "  elif x>-10:\n",
        "    print('C')\n",
        "  elif x>-30:\n",
        "    print('Z')\n",
        "\n",
        "else:\n",
        "    print('Zero')\n",
        "\n"
      ],
      "metadata": {
        "colab": {
          "base_uri": "https://localhost:8080/"
        },
        "id": "9Z9oQn2G3hTl",
        "outputId": "0fee0467-debc-4271-a1dd-c97928a24e8e"
      },
      "execution_count": 11,
      "outputs": [
        {
          "output_type": "stream",
          "name": "stdout",
          "text": [
            "pos\n",
            "K\n"
          ]
        }
      ]
    }
  ]
}