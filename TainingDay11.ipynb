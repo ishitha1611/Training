{
  "nbformat": 4,
  "nbformat_minor": 0,
  "metadata": {
    "colab": {
      "provenance": [],
      "authorship_tag": "ABX9TyPA9SoZZwu+698WpE/ReQoE",
      "include_colab_link": true
    },
    "kernelspec": {
      "name": "python3",
      "display_name": "Python 3"
    },
    "language_info": {
      "name": "python"
    }
  },
  "cells": [
    {
      "cell_type": "markdown",
      "metadata": {
        "id": "view-in-github",
        "colab_type": "text"
      },
      "source": [
        "<a href=\"https://colab.research.google.com/github/ishitha1611/Training/blob/main/TainingDay11.ipynb\" target=\"_parent\"><img src=\"https://colab.research.google.com/assets/colab-badge.svg\" alt=\"Open In Colab\"/></a>"
      ]
    },
    {
      "cell_type": "code",
      "execution_count": null,
      "metadata": {
        "id": "54xH-C8W2MxJ"
      },
      "outputs": [],
      "source": [
        "import numpy as np"
      ]
    },
    {
      "cell_type": "code",
      "source": [
        "np.random.randint(18,21,200)"
      ],
      "metadata": {
        "colab": {
          "base_uri": "https://localhost:8080/"
        },
        "id": "BW4l_Rrs6yoS",
        "outputId": "cda0b168-16b9-421d-83b9-274d9fec51bd"
      },
      "execution_count": null,
      "outputs": [
        {
          "output_type": "execute_result",
          "data": {
            "text/plain": [
              "array([20, 20, 19, 18, 19, 20, 18, 19, 18, 20, 20, 20, 18, 18, 20, 20, 20,\n",
              "       20, 20, 18, 18, 19, 20, 19, 18, 19, 19, 19, 18, 19, 19, 19, 18, 19,\n",
              "       19, 18, 20, 19, 18, 18, 20, 18, 19, 18, 20, 20, 19, 18, 20, 19, 18,\n",
              "       18, 20, 19, 18, 20, 18, 18, 20, 19, 20, 18, 18, 20, 19, 20, 20, 20,\n",
              "       18, 19, 19, 18, 19, 18, 19, 18, 19, 19, 18, 19, 19, 19, 20, 20, 18,\n",
              "       19, 20, 18, 20, 20, 18, 18, 20, 19, 18, 19, 19, 18, 20, 19, 19, 18,\n",
              "       20, 19, 18, 18, 19, 20, 20, 19, 19, 19, 18, 20, 18, 18, 18, 19, 18,\n",
              "       20, 19, 20, 19, 19, 18, 18, 19, 18, 19, 18, 20, 19, 20, 20, 19, 19,\n",
              "       20, 19, 20, 19, 19, 18, 18, 19, 20, 20, 19, 19, 20, 19, 18, 19, 20,\n",
              "       20, 18, 18, 19, 20, 18, 18, 19, 18, 18, 18, 20, 20, 20, 19, 19, 18,\n",
              "       20, 20, 19, 20, 18, 19, 19, 19, 19, 20, 19, 20, 20, 19, 18, 19, 18,\n",
              "       19, 18, 19, 18, 18, 19, 20, 19, 18, 19, 18, 20, 18])"
            ]
          },
          "metadata": {},
          "execution_count": 3
        }
      ]
    },
    {
      "cell_type": "code",
      "source": [
        "np.random.normal(18,21,100)"
      ],
      "metadata": {
        "colab": {
          "base_uri": "https://localhost:8080/"
        },
        "id": "81tSv-YY65NO",
        "outputId": "28786036-fd93-4d99-cdee-1fbf84395519"
      },
      "execution_count": null,
      "outputs": [
        {
          "output_type": "execute_result",
          "data": {
            "text/plain": [
              "array([ 40.1876579 ,  32.17335168,  37.31873971,  11.44600423,\n",
              "        14.12966174,  14.52610554,   4.58149841,  26.49674944,\n",
              "        24.09163097,  52.4404472 ,  43.71756988,  -4.32647206,\n",
              "        18.31532175,  28.22679088,  -1.29047051,  15.28585223,\n",
              "        32.13531734,  -3.17961054,   6.5064217 ,  46.57620487,\n",
              "        17.7640565 ,   7.7683273 ,  16.07781644,  53.82905193,\n",
              "       -31.62255056,  52.37200464, -14.54515629,  23.67365527,\n",
              "        52.83728598,  20.56268388,  -0.14028794,  23.32597208,\n",
              "        15.51405887,  -4.44368468,  30.70619405,  10.04453176,\n",
              "         7.65999371,  34.0366808 , -13.36432279,  16.88836922,\n",
              "       -22.29379618, -45.59295001,  24.11559285,  -9.92346373,\n",
              "        34.27785569,  38.49077499,   1.46553088,  12.64568365,\n",
              "         8.52516149,   2.2760383 ,  21.96129134,   2.70868847,\n",
              "        12.45949976,  21.52138054,  31.05262294,  22.97863375,\n",
              "        -6.78924454,  25.10812612,  49.79915069,  -6.26433253,\n",
              "        -4.09635451,  26.48504832,  55.55816809,  -7.20679413,\n",
              "        28.40901258,  18.0155847 ,  13.43079531,  10.61382358,\n",
              "         1.53028515,  29.27053921,  13.41741882,   8.68649987,\n",
              "       -10.40603653,  17.47819882,   0.21433259,  49.91537813,\n",
              "        29.31123207,  18.01311727, -17.04017865,  40.83059751,\n",
              "        68.37388096,   7.16132489,  29.95202327,  24.57573729,\n",
              "         8.17768709,  18.23283123, -16.15187695,  54.71295068,\n",
              "        16.47072842,   5.42636829,  30.10721205,   3.27377949,\n",
              "        22.6956797 ,  16.09086632,  28.51783372,   4.00498724,\n",
              "        11.39222014,  10.38813639,  16.18585025,  27.05276444])"
            ]
          },
          "metadata": {},
          "execution_count": 4
        }
      ]
    },
    {
      "cell_type": "code",
      "source": [
        "h = [30,20,5,8,9]\n",
        "h"
      ],
      "metadata": {
        "id": "BFtSXxL07BCO",
        "colab": {
          "base_uri": "https://localhost:8080/"
        },
        "outputId": "a6f19994-abb0-4d5e-a105-2bcd88324308"
      },
      "execution_count": null,
      "outputs": [
        {
          "output_type": "execute_result",
          "data": {
            "text/plain": [
              "[30, 20, 5, 8, 9]"
            ]
          },
          "metadata": {},
          "execution_count": 6
        }
      ]
    },
    {
      "cell_type": "code",
      "source": [
        "d = []\n",
        "for i in h:\n",
        "    d.append(i+5)\n",
        "d"
      ],
      "metadata": {
        "colab": {
          "base_uri": "https://localhost:8080/"
        },
        "id": "HcqVQxjP7gC6",
        "outputId": "928be352-d9cc-400c-96a1-1959cc8ab4d5"
      },
      "execution_count": null,
      "outputs": [
        {
          "output_type": "execute_result",
          "data": {
            "text/plain": [
              "[35, 25, 10, 13, 14]"
            ]
          },
          "metadata": {},
          "execution_count": 8
        }
      ]
    },
    {
      "cell_type": "code",
      "source": [
        "s = (6,2,3,9,7,5,8)"
      ],
      "metadata": {
        "id": "pkrGFdXG8cE2"
      },
      "execution_count": null,
      "outputs": []
    },
    {
      "cell_type": "code",
      "source": [
        "s"
      ],
      "metadata": {
        "colab": {
          "base_uri": "https://localhost:8080/"
        },
        "id": "LwHfqOow8oXY",
        "outputId": "cf7ba33b-57d3-4e4f-a2f1-39c26dc613bb"
      },
      "execution_count": null,
      "outputs": [
        {
          "output_type": "execute_result",
          "data": {
            "text/plain": [
              "(6, 2, 3, 9, 7, 5, 8)"
            ]
          },
          "metadata": {},
          "execution_count": 23
        }
      ]
    },
    {
      "cell_type": "code",
      "source": [
        "tuple(x**2 for x in s)"
      ],
      "metadata": {
        "colab": {
          "base_uri": "https://localhost:8080/"
        },
        "id": "jRgxyoIW8o7P",
        "outputId": "ce6e212b-8d23-406f-d441-dfe97d4b42bb"
      },
      "execution_count": null,
      "outputs": [
        {
          "output_type": "execute_result",
          "data": {
            "text/plain": [
              "(36, 4, 9, 81, 49, 25, 64)"
            ]
          },
          "metadata": {},
          "execution_count": 24
        }
      ]
    },
    {
      "cell_type": "code",
      "source": [
        "y = list(s)\n",
        "k = []\n",
        "for i in y:\n",
        "    k.append(i**2)\n",
        "s=tuple(k)\n",
        "s"
      ],
      "metadata": {
        "colab": {
          "base_uri": "https://localhost:8080/"
        },
        "id": "q7uOY_ft89kH",
        "outputId": "23d85476-aac2-4a4d-ebf5-70e7b5d560d7"
      },
      "execution_count": null,
      "outputs": [
        {
          "output_type": "execute_result",
          "data": {
            "text/plain": [
              "(1296, 16, 81, 6561, 2401, 625, 4096)"
            ]
          },
          "metadata": {},
          "execution_count": 26
        }
      ]
    },
    {
      "cell_type": "code",
      "source": [],
      "metadata": {
        "id": "5p2Hvuiv9UwS"
      },
      "execution_count": null,
      "outputs": []
    }
  ]
}